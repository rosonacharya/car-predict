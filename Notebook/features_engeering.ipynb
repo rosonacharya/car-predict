{
 "cells": [
  {
   "cell_type": "code",
   "execution_count": 1,
   "id": "282611f0",
   "metadata": {},
   "outputs": [],
   "source": [
    "import pandas as pd\n",
    "import numpy as np\n",
    "from sklearn.preprocessing import  LabelEncoder"
   ]
  },
  {
   "cell_type": "code",
   "execution_count": 2,
   "id": "1ca6b953",
   "metadata": {},
   "outputs": [
    {
     "name": "stdout",
     "output_type": "stream",
     "text": [
      "   year  selling_price  km_driven  ...  engine max_power seats\n",
      "0  2014         450000     145500  ...  1248.0        74   5.0\n",
      "1  2014         370000     120000  ...  1498.0    103.52   5.0\n",
      "2  2006         158000     140000  ...  1497.0        78   5.0\n",
      "3  2010         225000     127000  ...  1396.0        90   5.0\n",
      "4  2007         130000     120000  ...  1298.0      88.2   5.0\n",
      "\n",
      "[5 rows x 11 columns]\n"
     ]
    }
   ],
   "source": [
    "#readin the dataset \n",
    "data = pd.read_csv('../data/datacar.csv')\n",
    "print(data.head())"
   ]
  },
  {
   "cell_type": "code",
   "execution_count": 3,
   "id": "3e06aeac",
   "metadata": {},
   "outputs": [
    {
     "name": "stdout",
     "output_type": "stream",
     "text": [
      "year                    int64\n",
      "selling_price           int64\n",
      "km_driven               int64\n",
      "fuel                   object\n",
      "seller_type            object\n",
      "transmission           object\n",
      "owner                  object\n",
      "mileage(km/ltr/kg)    float64\n",
      "engine                float64\n",
      "max_power              object\n",
      "seats                 float64\n",
      "dtype: object\n"
     ]
    }
   ],
   "source": [
    "print(data.dtypes)"
   ]
  },
  {
   "cell_type": "code",
   "execution_count": null,
   "id": "ab2e695a",
   "metadata": {},
   "outputs": [],
   "source": [
    "#changing the name and datatypes of the columns\n",
    "data.rename(columns={'mileage(km/ltr/kg)': 'mileage'}, inplace=True)\n"
   ]
  },
  {
   "cell_type": "code",
   "execution_count": 12,
   "id": "5ec8431e",
   "metadata": {},
   "outputs": [],
   "source": [
    "data['max_power'] = pd.to_numeric(data['max_power'], errors= 'coerce')"
   ]
  },
  {
   "cell_type": "code",
   "execution_count": 13,
   "id": "b80369c9",
   "metadata": {},
   "outputs": [
    {
     "name": "stdout",
     "output_type": "stream",
     "text": [
      "year               int64\n",
      "selling_price      int64\n",
      "km_driven          int64\n",
      "fuel              object\n",
      "seller_type       object\n",
      "transmission      object\n",
      "owner             object\n",
      "mileage          float64\n",
      "engine           float64\n",
      "max_power        float64\n",
      "seats            float64\n",
      "max_poweer       float64\n",
      "dtype: object\n"
     ]
    }
   ],
   "source": [
    "print(data.dtypes)"
   ]
  },
  {
   "cell_type": "code",
   "execution_count": 14,
   "id": "db8058e3",
   "metadata": {},
   "outputs": [
    {
     "name": "stdout",
     "output_type": "stream",
     "text": [
      "year               0\n",
      "selling_price      0\n",
      "km_driven          0\n",
      "fuel               0\n",
      "seller_type        0\n",
      "transmission       0\n",
      "owner              0\n",
      "mileage          221\n",
      "engine           221\n",
      "max_power        216\n",
      "seats            221\n",
      "max_poweer       216\n",
      "dtype: int64\n"
     ]
    }
   ],
   "source": [
    "print(data.isnull().sum())"
   ]
  },
  {
   "cell_type": "code",
   "execution_count": 17,
   "id": "0b07bfa5",
   "metadata": {},
   "outputs": [
    {
     "name": "stdout",
     "output_type": "stream",
     "text": [
      "Categorical features:  Index(['fuel', 'seller_type', 'transmission', 'owner'], dtype='object')\n",
      "Numerical features:  Index(['year', 'selling_price', 'km_driven', 'mileage', 'engine', 'max_power',\n",
      "       'seats', 'max_poweer'],\n",
      "      dtype='object')\n"
     ]
    }
   ],
   "source": [
    "#separating categorical and numerical features\n",
    "data_cat = data.select_dtypes(include=['object']).columns\n",
    "data_num = data.select_dtypes(exclude=['object']).columns\n",
    "print(\"Categorical features: \", data_cat)\n",
    "print(\"Numerical features: \", data_num)"
   ]
  },
  {
   "cell_type": "code",
   "execution_count": 21,
   "id": "cba2e81b",
   "metadata": {},
   "outputs": [
    {
     "name": "stderr",
     "output_type": "stream",
     "text": [
      "C:\\Users\\User\\AppData\\Local\\Temp\\ipykernel_4752\\667672741.py:4: FutureWarning: A value is trying to be set on a copy of a DataFrame or Series through chained assignment using an inplace method.\n",
      "The behavior will change in pandas 3.0. This inplace method will never work because the intermediate object on which we are setting values always behaves as a copy.\n",
      "\n",
      "For example, when doing 'df[col].method(value, inplace=True)', try using 'df.method({col: value}, inplace=True)' or df[col] = df[col].method(value) instead, to perform the operation inplace on the original object.\n",
      "\n",
      "\n",
      "  data[col].fillna(data[col].mean(), inplace=True)\n"
     ]
    }
   ],
   "source": [
    "miss_col = {'mileage', 'engine', 'max_power', 'seats'}\n",
    "#Filling missing values with mean for numerical columns\n",
    "for col in miss_col:\n",
    "     data[col].fillna(data[col].mean(), inplace=True)"
   ]
  },
  {
   "cell_type": "code",
   "execution_count": 22,
   "id": "44f25fb1",
   "metadata": {},
   "outputs": [
    {
     "name": "stdout",
     "output_type": "stream",
     "text": [
      "year               0\n",
      "selling_price      0\n",
      "km_driven          0\n",
      "fuel               0\n",
      "seller_type        0\n",
      "transmission       0\n",
      "owner              0\n",
      "mileage            0\n",
      "engine             0\n",
      "max_power          0\n",
      "seats              0\n",
      "max_poweer       216\n",
      "dtype: int64\n"
     ]
    }
   ],
   "source": [
    "print(data.isnull().sum())"
   ]
  },
  {
   "cell_type": "code",
   "execution_count": 25,
   "id": "be36c752",
   "metadata": {},
   "outputs": [],
   "source": [
    "data.drop(columns=['max_poweer'], inplace=True)"
   ]
  },
  {
   "cell_type": "code",
   "execution_count": 26,
   "id": "30147e95",
   "metadata": {},
   "outputs": [
    {
     "name": "stdout",
     "output_type": "stream",
     "text": [
      "year             0\n",
      "selling_price    0\n",
      "km_driven        0\n",
      "fuel             0\n",
      "seller_type      0\n",
      "transmission     0\n",
      "owner            0\n",
      "mileage          0\n",
      "engine           0\n",
      "max_power        0\n",
      "seats            0\n",
      "dtype: int64\n"
     ]
    }
   ],
   "source": [
    "print(data.isnull().sum())"
   ]
  },
  {
   "cell_type": "code",
   "execution_count": 28,
   "id": "80fa8376",
   "metadata": {},
   "outputs": [],
   "source": [
    "for cat in data_cat:\n",
    "    le = LabelEncoder()\n",
    "    data[cat] = le.fit_transform(data[cat])"
   ]
  },
  {
   "cell_type": "code",
   "execution_count": 29,
   "id": "85a30997",
   "metadata": {},
   "outputs": [
    {
     "name": "stdout",
     "output_type": "stream",
     "text": [
      "year               int64\n",
      "selling_price      int64\n",
      "km_driven          int64\n",
      "fuel               int32\n",
      "seller_type        int32\n",
      "transmission       int32\n",
      "owner              int32\n",
      "mileage          float64\n",
      "engine           float64\n",
      "max_power        float64\n",
      "seats            float64\n",
      "dtype: object\n"
     ]
    }
   ],
   "source": [
    "print(data.dtypes)"
   ]
  },
  {
   "cell_type": "code",
   "execution_count": 30,
   "id": "4d722dc3",
   "metadata": {},
   "outputs": [],
   "source": [
    "data.to_csv('../data/datacar_cleaned.csv', index=False)"
   ]
  },
  {
   "cell_type": "markdown",
   "id": "e63ba060",
   "metadata": {},
   "source": [
    "# Done"
   ]
  }
 ],
 "metadata": {
  "kernelspec": {
   "display_name": "Python 3",
   "language": "python",
   "name": "python3"
  },
  "language_info": {
   "codemirror_mode": {
    "name": "ipython",
    "version": 3
   },
   "file_extension": ".py",
   "mimetype": "text/x-python",
   "name": "python",
   "nbconvert_exporter": "python",
   "pygments_lexer": "ipython3",
   "version": "3.12.6"
  }
 },
 "nbformat": 4,
 "nbformat_minor": 5
}
