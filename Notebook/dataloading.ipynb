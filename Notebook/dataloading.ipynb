{
 "cells": [
  {
   "cell_type": "code",
   "execution_count": 1,
   "id": "da2f0c89",
   "metadata": {},
   "outputs": [],
   "source": [
    "import pandas as pd\n",
    "import numpy as np"
   ]
  },
  {
   "cell_type": "code",
   "execution_count": 2,
   "id": "1da0da38",
   "metadata": {},
   "outputs": [
    {
     "name": "stdout",
     "output_type": "stream",
     "text": [
      "      year  selling_price  km_driven    fuel seller_type transmission  \\\n",
      "0     2014         450000     145500  Diesel  Individual       Manual   \n",
      "1     2014         370000     120000  Diesel  Individual       Manual   \n",
      "2     2006         158000     140000  Petrol  Individual       Manual   \n",
      "3     2010         225000     127000  Diesel  Individual       Manual   \n",
      "4     2007         130000     120000  Petrol  Individual       Manual   \n",
      "...    ...            ...        ...     ...         ...          ...   \n",
      "8123  2013         320000     110000  Petrol  Individual       Manual   \n",
      "8124  2007         135000     119000  Diesel  Individual       Manual   \n",
      "8125  2009         382000     120000  Diesel  Individual       Manual   \n",
      "8126  2013         290000      25000  Diesel  Individual       Manual   \n",
      "8127  2013         290000      25000  Diesel  Individual       Manual   \n",
      "\n",
      "                     owner  mileage(km/ltr/kg)  engine max_power  seats  \n",
      "0              First Owner               23.40  1248.0        74    5.0  \n",
      "1             Second Owner               21.14  1498.0    103.52    5.0  \n",
      "2              Third Owner               17.70  1497.0        78    5.0  \n",
      "3              First Owner               23.00  1396.0        90    5.0  \n",
      "4              First Owner               16.10  1298.0      88.2    5.0  \n",
      "...                    ...                 ...     ...       ...    ...  \n",
      "8123           First Owner               18.50  1197.0     82.85    5.0  \n",
      "8124  Fourth & Above Owner               16.80  1493.0       110    5.0  \n",
      "8125           First Owner               19.30  1248.0      73.9    5.0  \n",
      "8126           First Owner               23.57  1396.0        70    5.0  \n",
      "8127           First Owner               23.57  1396.0        70    5.0  \n",
      "\n",
      "[8128 rows x 11 columns]\n"
     ]
    }
   ],
   "source": [
    "#reading files\n",
    "data = pd.read_csv('C:/Users/User/OneDrive/Desktop/Self Test/Car/Data/datacar.csv')\n",
    "print(data)"
   ]
  },
  {
   "cell_type": "code",
   "execution_count": 3,
   "id": "342fd5b1",
   "metadata": {},
   "outputs": [
    {
     "name": "stdout",
     "output_type": "stream",
     "text": [
      "year                    int64\n",
      "selling_price           int64\n",
      "km_driven               int64\n",
      "fuel                   object\n",
      "seller_type            object\n",
      "transmission           object\n",
      "owner                  object\n",
      "mileage(km/ltr/kg)    float64\n",
      "engine                float64\n",
      "max_power              object\n",
      "seats                 float64\n",
      "dtype: object\n"
     ]
    }
   ],
   "source": [
    "print(data.dtypes)"
   ]
  },
  {
   "cell_type": "code",
   "execution_count": 4,
   "id": "eaf819d6",
   "metadata": {},
   "outputs": [
    {
     "name": "stdout",
     "output_type": "stream",
     "text": [
      "<class 'pandas.core.frame.DataFrame'>\n",
      "RangeIndex: 8128 entries, 0 to 8127\n",
      "Data columns (total 11 columns):\n",
      " #   Column              Non-Null Count  Dtype  \n",
      "---  ------              --------------  -----  \n",
      " 0   year                8128 non-null   int64  \n",
      " 1   selling_price       8128 non-null   int64  \n",
      " 2   km_driven           8128 non-null   int64  \n",
      " 3   fuel                8128 non-null   object \n",
      " 4   seller_type         8128 non-null   object \n",
      " 5   transmission        8128 non-null   object \n",
      " 6   owner               8128 non-null   object \n",
      " 7   mileage(km/ltr/kg)  7907 non-null   float64\n",
      " 8   engine              7907 non-null   float64\n",
      " 9   max_power           7913 non-null   object \n",
      " 10  seats               7907 non-null   float64\n",
      "dtypes: float64(3), int64(3), object(5)\n",
      "memory usage: 698.6+ KB\n",
      "None\n"
     ]
    }
   ],
   "source": [
    "print(data.info())"
   ]
  },
  {
   "cell_type": "code",
   "execution_count": 5,
   "id": "f2ad0796",
   "metadata": {},
   "outputs": [
    {
     "name": "stdout",
     "output_type": "stream",
     "text": [
      "              year  selling_price     km_driven  mileage(km/ltr/kg)  \\\n",
      "count  8128.000000   8.128000e+03  8.128000e+03         7907.000000   \n",
      "mean   2013.804011   6.382718e+05  6.981951e+04           19.418783   \n",
      "std       4.044249   8.062534e+05  5.655055e+04            4.037145   \n",
      "min    1983.000000   2.999900e+04  1.000000e+00            0.000000   \n",
      "25%    2011.000000   2.549990e+05  3.500000e+04           16.780000   \n",
      "50%    2015.000000   4.500000e+05  6.000000e+04           19.300000   \n",
      "75%    2017.000000   6.750000e+05  9.800000e+04           22.320000   \n",
      "max    2020.000000   1.000000e+07  2.360457e+06           42.000000   \n",
      "\n",
      "            engine        seats  \n",
      "count  7907.000000  7907.000000  \n",
      "mean   1458.625016     5.416719  \n",
      "std     503.916303     0.959588  \n",
      "min     624.000000     2.000000  \n",
      "25%    1197.000000     5.000000  \n",
      "50%    1248.000000     5.000000  \n",
      "75%    1582.000000     5.000000  \n",
      "max    3604.000000    14.000000  \n"
     ]
    }
   ],
   "source": [
    "print(data.describe())"
   ]
  },
  {
   "cell_type": "code",
   "execution_count": 6,
   "id": "e8b61d30",
   "metadata": {},
   "outputs": [
    {
     "name": "stdout",
     "output_type": "stream",
     "text": [
      "year                    0\n",
      "selling_price           0\n",
      "km_driven               0\n",
      "fuel                    0\n",
      "seller_type             0\n",
      "transmission            0\n",
      "owner                   0\n",
      "mileage(km/ltr/kg)    221\n",
      "engine                221\n",
      "max_power             215\n",
      "seats                 221\n",
      "dtype: int64\n"
     ]
    }
   ],
   "source": [
    "print(data.isnull().sum())"
   ]
  },
  {
   "cell_type": "code",
   "execution_count": 7,
   "id": "3f3692ce",
   "metadata": {},
   "outputs": [
    {
     "name": "stdout",
     "output_type": "stream",
     "text": [
      "Index(['fuel', 'seller_type', 'transmission', 'owner', 'max_power'], dtype='object')\n"
     ]
    }
   ],
   "source": [
    "#separating categorical and numerical features\n",
    "data_cat = data.select_dtypes(include=['object']).columns\n",
    "print(data_cat)"
   ]
  },
  {
   "cell_type": "code",
   "execution_count": 8,
   "id": "b2feadab",
   "metadata": {},
   "outputs": [
    {
     "name": "stdout",
     "output_type": "stream",
     "text": [
      "Index(['year', 'selling_price', 'km_driven', 'mileage(km/ltr/kg)', 'engine',\n",
      "       'seats'],\n",
      "      dtype='object')\n"
     ]
    }
   ],
   "source": [
    "data_num = data.select_dtypes(exclude=['object']).columns\n",
    "print(data_num)"
   ]
  }
 ],
 "metadata": {
  "kernelspec": {
   "display_name": "Python 3",
   "language": "python",
   "name": "python3"
  },
  "language_info": {
   "codemirror_mode": {
    "name": "ipython",
    "version": 3
   },
   "file_extension": ".py",
   "mimetype": "text/x-python",
   "name": "python",
   "nbconvert_exporter": "python",
   "pygments_lexer": "ipython3",
   "version": "3.12.6"
  }
 },
 "nbformat": 4,
 "nbformat_minor": 5
}
